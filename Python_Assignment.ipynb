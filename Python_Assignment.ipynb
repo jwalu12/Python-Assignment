{
  "nbformat": 4,
  "nbformat_minor": 0,
  "metadata": {
    "colab": {
      "name": "Python Assignment",
      "provenance": [],
      "collapsed_sections": []
    },
    "kernelspec": {
      "name": "python3",
      "display_name": "Python 3"
    },
    "language_info": {
      "name": "python"
    }
  },
  "cells": [
    {
      "cell_type": "markdown",
      "source": [
        "Write a Python Program to Print Table of a Given Number?\n",
        "Example:\n",
        "   Enter the number to print the tables for:7\n",
        "   7 x 1 = 7\n",
        "   7 x 2 = 14\n",
        "   7 x 3 = 21\n",
        "   7 x 4 = 28\n",
        "   7 x 5 = 35\n",
        "   7 x 6 = 42\n",
        "   7 x 7 = 49\n",
        "   7 x 8 = 56\n",
        "   7 x 9 = 63\n",
        "   7 x 10 = 70"
      ],
      "metadata": {
        "id": "NL0BuYQZoT14"
      }
    },
    {
      "cell_type": "code",
      "source": [
        "n = int(input(\"Enter a number: \"))\n",
        "c=1\n",
        "while(c<=10):\n",
        "  b = n * c\n",
        "  print(n,\"*\",c,\"=\",b)\n",
        "  #c+=1\n",
        "  c=c+1"
      ],
      "metadata": {
        "colab": {
          "base_uri": "https://localhost:8080/"
        },
        "id": "GxxAM70docOv",
        "outputId": "a9c6ad02-1899-4849-fd7d-c41c622b3fad"
      },
      "execution_count": null,
      "outputs": [
        {
          "output_type": "stream",
          "name": "stdout",
          "text": [
            "Enter a number: 7\n",
            "7 * 1 = 7\n",
            "7 * 2 = 14\n",
            "7 * 3 = 21\n",
            "7 * 4 = 28\n",
            "7 * 5 = 35\n",
            "7 * 6 = 42\n",
            "7 * 7 = 49\n",
            "7 * 8 = 56\n",
            "7 * 9 = 63\n",
            "7 * 10 = 70\n"
          ]
        }
      ]
    },
    {
      "cell_type": "markdown",
      "source": [
        "2. Write python program to print double sided stair-case pattern\n",
        "Example:\n",
        "   Input : 10\n",
        "   Output :\n",
        "\n",
        "                 *   * \n",
        "                 *   * \n",
        "             *   *   *   * \n",
        "             *   *   *   * \n",
        "         *   *   *   *   *   * \n",
        "         *   *   *   *   *   * \n",
        "     *   *   *   *   *   *   *   * \n",
        "     *   *   *   *   *   *   *   * \n",
        " *   *   *   *   *   *   *   *   *   * \n",
        " *   *   *   *   *   *   *   *   *   * "
      ],
      "metadata": {
        "id": "e5xHZL4foc7M"
      }
    },
    {
      "cell_type": "code",
      "source": [
        "x=10\n",
        "for y in range(1, x+1):\n",
        "  z = y + 1 if(y%2 !=0) else y\n",
        "  for a in range(z,x):\n",
        "    if a>=z:\n",
        "      print(end=\"  \") \n",
        "  for j in range(0,z):\n",
        "    if j == z-1:\n",
        "      print(\" * \")\n",
        "    else:\n",
        "      print(\" * \", end=\" \")"
      ],
      "metadata": {
        "colab": {
          "base_uri": "https://localhost:8080/"
        },
        "id": "rOoCGtnhomRM",
        "outputId": "a9c33e65-206f-4a2f-c505-3e4a7fdbf1b1"
      },
      "execution_count": null,
      "outputs": [
        {
          "output_type": "stream",
          "name": "stdout",
          "text": [
            "                 *   * \n",
            "                 *   * \n",
            "             *   *   *   * \n",
            "             *   *   *   * \n",
            "         *   *   *   *   *   * \n",
            "         *   *   *   *   *   * \n",
            "     *   *   *   *   *   *   *   * \n",
            "     *   *   *   *   *   *   *   * \n",
            " *   *   *   *   *   *   *   *   *   * \n",
            " *   *   *   *   *   *   *   *   *   * \n"
          ]
        }
      ]
    }
  ]
}